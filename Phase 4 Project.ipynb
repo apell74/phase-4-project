{
 "cells": [
  {
   "cell_type": "markdown",
   "id": "1ce15b6d",
   "metadata": {},
   "source": [
    "# Overview"
   ]
  },
  {
   "cell_type": "markdown",
   "id": "47ce0ee9",
   "metadata": {},
   "source": []
  },
  {
   "cell_type": "markdown",
   "id": "22642e7a",
   "metadata": {},
   "source": [
    "# Business Understanding"
   ]
  },
  {
   "cell_type": "markdown",
   "id": "d16548a4",
   "metadata": {},
   "source": []
  },
  {
   "cell_type": "markdown",
   "id": "4ac0c194",
   "metadata": {},
   "source": [
    "# Data Understanding"
   ]
  },
  {
   "cell_type": "markdown",
   "id": "f6de705b",
   "metadata": {},
   "source": [
    "## Limitations"
   ]
  },
  {
   "cell_type": "markdown",
   "id": "3718388c",
   "metadata": {},
   "source": []
  },
  {
   "cell_type": "markdown",
   "id": "3cdf2c8a",
   "metadata": {},
   "source": [
    "# Data Analysis"
   ]
  },
  {
   "cell_type": "markdown",
   "id": "deef4679",
   "metadata": {},
   "source": [
    "## Preparation"
   ]
  },
  {
   "cell_type": "markdown",
   "id": "3c7edcb6",
   "metadata": {},
   "source": []
  },
  {
   "cell_type": "markdown",
   "id": "39d01c98",
   "metadata": {},
   "source": [
    "## Preliminary Modeling"
   ]
  },
  {
   "cell_type": "markdown",
   "id": "84c1d888",
   "metadata": {},
   "source": [
    "## Final Model"
   ]
  },
  {
   "cell_type": "markdown",
   "id": "e17ff691",
   "metadata": {},
   "source": []
  },
  {
   "cell_type": "markdown",
   "id": "43a685eb",
   "metadata": {},
   "source": [
    "# Conclusions"
   ]
  },
  {
   "cell_type": "markdown",
   "id": "552423f2",
   "metadata": {},
   "source": [
    "## Next Steps"
   ]
  },
  {
   "cell_type": "markdown",
   "id": "6de5ef66",
   "metadata": {},
   "source": [
    "## Contact Information"
   ]
  },
  {
   "cell_type": "markdown",
   "id": "494d6b90",
   "metadata": {},
   "source": []
  },
  {
   "cell_type": "markdown",
   "id": "ed7039d0",
   "metadata": {},
   "source": []
  },
  {
   "cell_type": "code",
   "execution_count": null,
   "id": "392fe2ba",
   "metadata": {},
   "outputs": [],
   "source": []
  }
 ],
 "metadata": {
  "kernelspec": {
   "display_name": "Python 3 (ipykernel)",
   "language": "python",
   "name": "python3"
  },
  "language_info": {
   "codemirror_mode": {
    "name": "ipython",
    "version": 3
   },
   "file_extension": ".py",
   "mimetype": "text/x-python",
   "name": "python",
   "nbconvert_exporter": "python",
   "pygments_lexer": "ipython3",
   "version": "3.9.13"
  }
 },
 "nbformat": 4,
 "nbformat_minor": 5
}
